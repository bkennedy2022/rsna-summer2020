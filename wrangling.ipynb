{
 "cells": [
  {
   "cell_type": "code",
   "execution_count": null,
   "metadata": {},
   "outputs": [],
   "source": []
  },
  {
   "cell_type": "code",
   "execution_count": 1,
   "metadata": {},
   "outputs": [
    {
     "name": "stdout",
     "output_type": "stream",
     "text": [
      "Automatically created module for IPython interactive environment\n"
     ]
    },
    {
     "ename": "FileNotFoundError",
     "evalue": "[Errno 2] No such file or directory: 'brains/ID_0a96a5b9b.dcm'",
     "output_type": "error",
     "traceback": [
      "\u001b[0;31m---------------------------------------------------------------------------\u001b[0m",
      "\u001b[0;31mFileNotFoundError\u001b[0m                         Traceback (most recent call last)",
      "\u001b[0;32m<ipython-input-1-4539664d5e3a>\u001b[0m in \u001b[0;36m<module>\u001b[0;34m\u001b[0m\n\u001b[1;32m      7\u001b[0m \u001b[0;31m#filename = get_testdata_files('CT_small.dcm')[0]\u001b[0m\u001b[0;34m\u001b[0m\u001b[0;34m\u001b[0m\u001b[0;34m\u001b[0m\u001b[0m\n\u001b[1;32m      8\u001b[0m \u001b[0mfilename\u001b[0m \u001b[0;34m=\u001b[0m \u001b[0;34m\"brains/ID_0a96a5b9b.dcm\"\u001b[0m\u001b[0;34m\u001b[0m\u001b[0;34m\u001b[0m\u001b[0m\n\u001b[0;32m----> 9\u001b[0;31m \u001b[0mdataset\u001b[0m \u001b[0;34m=\u001b[0m \u001b[0mpydicom\u001b[0m\u001b[0;34m.\u001b[0m\u001b[0mdcmread\u001b[0m\u001b[0;34m(\u001b[0m\u001b[0mfilename\u001b[0m\u001b[0;34m)\u001b[0m\u001b[0;34m\u001b[0m\u001b[0;34m\u001b[0m\u001b[0m\n\u001b[0m\u001b[1;32m     10\u001b[0m \u001b[0;31m# print(\"File: \"+filename)\u001b[0m\u001b[0;34m\u001b[0m\u001b[0;34m\u001b[0m\u001b[0;34m\u001b[0m\u001b[0m\n\u001b[1;32m     11\u001b[0m \u001b[0;31m# # Normal mode:\u001b[0m\u001b[0;34m\u001b[0m\u001b[0;34m\u001b[0m\u001b[0;34m\u001b[0m\u001b[0m\n",
      "\u001b[0;32m~/.local/lib/python3.6/site-packages/pydicom/filereader.py\u001b[0m in \u001b[0;36mdcmread\u001b[0;34m(fp, defer_size, stop_before_pixels, force, specific_tags)\u001b[0m\n\u001b[1;32m    845\u001b[0m         \u001b[0;32mexcept\u001b[0m \u001b[0mException\u001b[0m\u001b[0;34m:\u001b[0m\u001b[0;34m\u001b[0m\u001b[0;34m\u001b[0m\u001b[0m\n\u001b[1;32m    846\u001b[0m             \u001b[0mlogger\u001b[0m\u001b[0;34m.\u001b[0m\u001b[0mdebug\u001b[0m\u001b[0;34m(\u001b[0m\u001b[0;34m\"Reading file '{0}'\"\u001b[0m\u001b[0;34m.\u001b[0m\u001b[0mformat\u001b[0m\u001b[0;34m(\u001b[0m\u001b[0mfp\u001b[0m\u001b[0;34m)\u001b[0m\u001b[0;34m)\u001b[0m\u001b[0;34m\u001b[0m\u001b[0;34m\u001b[0m\u001b[0m\n\u001b[0;32m--> 847\u001b[0;31m         \u001b[0mfp\u001b[0m \u001b[0;34m=\u001b[0m \u001b[0mopen\u001b[0m\u001b[0;34m(\u001b[0m\u001b[0mfp\u001b[0m\u001b[0;34m,\u001b[0m \u001b[0;34m'rb'\u001b[0m\u001b[0;34m)\u001b[0m\u001b[0;34m\u001b[0m\u001b[0;34m\u001b[0m\u001b[0m\n\u001b[0m\u001b[1;32m    848\u001b[0m \u001b[0;34m\u001b[0m\u001b[0m\n\u001b[1;32m    849\u001b[0m     \u001b[0;32mif\u001b[0m \u001b[0mconfig\u001b[0m\u001b[0;34m.\u001b[0m\u001b[0mdebugging\u001b[0m\u001b[0;34m:\u001b[0m\u001b[0;34m\u001b[0m\u001b[0;34m\u001b[0m\u001b[0m\n",
      "\u001b[0;31mFileNotFoundError\u001b[0m: [Errno 2] No such file or directory: 'brains/ID_0a96a5b9b.dcm'"
     ]
    }
   ],
   "source": [
    "import matplotlib.pyplot as plt\n",
    "import pydicom\n",
    "from pydicom.data import get_testdata_files\n",
    "\n",
    "print(__doc__)\n",
    "\n",
    "#filename = get_testdata_files('CT_small.dcm')[0]\n",
    "filename = \"brains/ID_0a96a5b9b.dcm\"\n",
    "dataset = pydicom.dcmread(filename)\n",
    "# print(\"File: \"+filename)\n",
    "# # Normal mode:\n",
    "# print()\n",
    "# print(\"Filename.........:\", filename)\n",
    "# #print(\"Storage type.....:\", dataset.SOPClassUID)\n",
    "# print()\n",
    "\n",
    "# pat_name = dataset.PatientName\n",
    "# display_name = pat_name.family_name + \", \" + pat_name.given_name\n",
    "# print(\"Patient's name...:\", display_name)\n",
    "# print(\"Patient id.......:\", dataset.PatientID)\n",
    "# print(\"Modality.........:\", dataset.Modality)\n",
    "# print(\"Study Date.......:\", dataset.StudyDate)\n",
    "\n",
    "# if 'PixelData' in dataset:\n",
    "#     rows = int(dataset.Rows)\n",
    "#     cols = int(dataset.Columns)\n",
    "#     print(\"Image size.......: {rows:d} x {cols:d}, {size:d} bytes\".format(\n",
    "#         rows=rows, cols=cols, size=len(dataset.PixelData)))\n",
    "#     if 'PixelSpacing' in dataset:\n",
    "#         print(\"Pixel spacing....:\", dataset.PixelSpacing)\n",
    "\n",
    "# use .get() if not sure the item exists, and want a default value if missing\n",
    "# print(\"Slice location...:\", dataset.get('SliceLocation', \"(missing)\"))\n",
    "\n",
    "# plot the image using matplotlib\n",
    "# plt.imshow(dataset.pixel_array, cmap=plt.cm.bone)\n",
    "# plt.show()\n",
    "print(dataset.pixel_array)"
   ]
  },
  {
   "cell_type": "markdown",
   "metadata": {},
   "source": [
    "Move stage_2_train.csv into an array with 3 columns: one for ID, one for type of hemorrhage, and one for diagnosis."
   ]
  },
  {
   "cell_type": "code",
   "execution_count": null,
   "metadata": {},
   "outputs": [],
   "source": [
    "import numpy as np\n",
    "import pandas as pd\n",
    "import os\n",
    "import matplotlib.pyplot as plt\n",
    "import pydicom\n",
    "from pydicom.data import get_testdata_files\n",
    "import torch\n",
    "import glob"
   ]
  },
  {
   "cell_type": "code",
   "execution_count": 2,
   "metadata": {},
   "outputs": [],
   "source": [
    "def prep_dataframe(directory, csv):   \n",
    "    diagnoses = pd.read_csv(csv)\n",
    "    diagnoses = diagnoses.to_numpy()\n",
    "    more = np.empty((len(diagnoses), 3), dtype = 'U18')\n",
    "    for x in range(len(diagnoses)):\n",
    "        more[x][0] = diagnoses[x][0][3:12]\n",
    "        more[x][1] = diagnoses[x][0][13:]\n",
    "\n",
    "    more[:,2] = diagnoses[:,1]\n",
    "\n",
    "    #test_list = os.listdir(directory)\n",
    "    test_list = glob.glob(\"/home/wustl/brooks.kennedy/stage_2_train/*.dcm\")\n",
    "    #print(test_list)\n",
    "    image_arrays = np.zeros([512, 512])\n",
    "    df = pd.DataFrame(columns = [\"Image\", \"ID\", \"Diagnoses\", \"Hemmorhage\"])\n",
    "\n",
    "    for file in test_list:\n",
    "        if(file != \".DS_Store\"):\n",
    "            try:\n",
    "                dataset = pydicom.dcmread(file, force = True)\n",
    "                diagnoses = more[:,1:][more[:,0]==file[44:53]]\n",
    "                filtered_diagnoses = diagnoses[:,0][diagnoses[:,1]=='1']\n",
    "                any_diagnosis = filtered_diagnoses.size != 0\n",
    "                df = df.append({\"Image\": dataset.pixel_array, \"ID\": file[44:53], \n",
    "                                \"Diagnoses\": filtered_diagnoses, \n",
    "                               \"Hemmorhage\": any_diagnosis}, ignore_index = True)\n",
    "            except:\n",
    "                print(\"Error with file \"+file)  \n",
    "    return df"
   ]
  },
  {
   "cell_type": "code",
   "execution_count": null,
   "metadata": {},
   "outputs": [],
   "source": [
    "f = prep_dataframe(\"/home/wustl/brooks.kennedy/stage_2_train\", \"/home/wustl/brooks.kennedy/stage_2_train.csv\")"
   ]
  },
  {
   "cell_type": "code",
   "execution_count": null,
   "metadata": {},
   "outputs": [],
   "source": [
    "#def prep_3D_dataframe(directory, csv):\n",
    "    \n",
    "    #GPU or CPU?\n",
    "#     if torch.cuda.is_available():  \n",
    "#       dev = \"cuda:0\" \n",
    "#     else:  \n",
    "#       dev = \"cpu\"  \n",
    "#     device = torch.device(dev)\n",
    "    \n",
    "    diagnoses = pd.read_csv(csv)\n",
    "    diagnoses = diagnoses.to_numpy()\n",
    "    more = np.empty((len(diagnoses), 3), dtype = 'U18')\n",
    "    for x in range(len(diagnoses)):\n",
    "        more[x][0] = diagnoses[x][0][3:12]\n",
    "        more[x][1] = diagnoses[x][0][13:]\n",
    "\n",
    "    more[:,2] = diagnoses[:,1]\n",
    "\n",
    "    test_list = os.listdir(directory)\n",
    "    image_arrays = np.zeros([512, 512])\n",
    "    df = pd.DataFrame(columns = [\"Image\", \"ID\", \"Diagnoses\", \"Hemmorhage\"])\n",
    "\n",
    "    for file in test_list:\n",
    "        if(file != \".DS_Store\"):\n",
    "            dataset = pydicom.dcmread(directory+\"/\"+file, force = True)\n",
    "            #image_arrays = np.dstack((image_arrays, dataset.pixel_array))\n",
    "            try:\n",
    "                diagnoses = more[:,1:][more[:,0]==file[3:12]]\n",
    "                filtered_diagnoses = diagnoses[:,0][diagnoses[:,1]=='1']\n",
    "                any_diagnosis = filtered_diagnoses.size != 0\n",
    "                df = df.append({\"Image\": dataset.pixel_array, \"ID\": file[3:12], \n",
    "                                \"Diagnoses\": filtered_diagnoses, \n",
    "                               \"Hemmorhage\": any_diagnosis}, ignore_index = True)\n",
    "            except:\n",
    "                print(\"Error with file \"+file)  \n",
    "    #return df"
   ]
  },
  {
   "cell_type": "code",
   "execution_count": null,
   "metadata": {},
   "outputs": [],
   "source": [
    "x=prep_dataframe(directory, csv)"
   ]
  },
  {
   "cell_type": "code",
   "execution_count": null,
   "metadata": {},
   "outputs": [],
   "source": [
    "x"
   ]
  },
  {
   "cell_type": "code",
   "execution_count": null,
   "metadata": {},
   "outputs": [],
   "source": [
    "data_mini = prep_dataframe(\"/home/wustl/brooks.kennedy/stage_2_train\", \"/home/wustl/brooks.kennedy/stage_2_train.csv\")"
   ]
  },
  {
   "cell_type": "markdown",
   "metadata": {},
   "source": [
    "Here's an image:"
   ]
  },
  {
   "cell_type": "code",
   "execution_count": null,
   "metadata": {},
   "outputs": [],
   "source": [
    "test_list = os.listdir(\"/home/wustl/brooks.kennedy/stage_2_train\")\n",
    "dataset = pydicom.dcmread(\"/home/wustl/brooks.kennedy/stage_2_train/\"+test_list[0], force = True)\n",
    "dataset.pixel_array.shape\n",
    "plt.imshow(  dataset.pixel_array)\n",
    "#generated_image.shape"
   ]
  },
  {
   "cell_type": "code",
   "execution_count": null,
   "metadata": {},
   "outputs": [],
   "source": [
    "data_mini"
   ]
  },
  {
   "cell_type": "code",
   "execution_count": null,
   "metadata": {},
   "outputs": [],
   "source": []
  }
 ],
 "metadata": {
  "kernelspec": {
   "display_name": "Python 3",
   "language": "python",
   "name": "python3"
  },
  "language_info": {
   "codemirror_mode": {
    "name": "ipython",
    "version": 3
   },
   "file_extension": ".py",
   "mimetype": "text/x-python",
   "name": "python",
   "nbconvert_exporter": "python",
   "pygments_lexer": "ipython3",
   "version": "3.8.3"
  }
 },
 "nbformat": 4,
 "nbformat_minor": 4
}
