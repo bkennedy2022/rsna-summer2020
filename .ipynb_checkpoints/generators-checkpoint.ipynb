{
 "cells": [
  {
   "cell_type": "code",
   "execution_count": 1,
   "metadata": {},
   "outputs": [
    {
     "name": "stdout",
     "output_type": "stream",
     "text": [
      "Importing Jupyter notebook from wrangling.ipynb\n"
     ]
    }
   ],
   "source": [
    "import nbimporter\n",
    "from wrangling import prep_dataframe\n",
    "import pandas as pd\n",
    "import torch\n",
    "import torch.nn as nn\n",
    "import matplotlib.pyplot as plt\n",
    "import pydicom\n",
    "import os\n",
    "import numpy as np\n",
    "from torch.autograd import Variable\n",
    "from torch.nn import Linear, ReLU, CrossEntropyLoss, Sequential, Conv2d, MaxPool2d, Module, Softmax, BatchNorm2d, Dropout\n",
    "from torch.optim import Adam, SGD\n",
    "import math\n",
    "from torch.distributions.normal import Normal\n",
    "import torch.cuda"
   ]
  },
  {
   "cell_type": "code",
   "execution_count": 2,
   "metadata": {},
   "outputs": [],
   "source": [
    "train_data_ = prep_dataframe(\"/home/wustl/brooks.kennedy/stage_2_train\", \"/home/wustl/brooks.kennedy/stage_2_train.csv\", 1000)"
   ]
  },
  {
   "cell_type": "code",
   "execution_count": 3,
   "metadata": {},
   "outputs": [],
   "source": [
    "#hemmorhage_train_data = train_data.loc[train_data['Hemmorhage']==True]\n",
    "#train_y = hemmorhage_train_data['Hemmorhage']\n",
    "#train_x = hemmorhage_train_data['Image']\n",
    "#ids = hemmorhage_train_data['ID']\n",
    "train_y = train_data_['Hemmorhage']\n",
    "train_x = train_data_['Image']\n",
    "ids = train_data_['ID']\n",
    "\n",
    "#convert training images, target data, ids to numpy arrays\n",
    "train_x = train_x.to_numpy()\n",
    "train_y = train_y.to_numpy()\n",
    "ids = ids.to_numpy()\n",
    "for x in range(0, 1000): #filter out incorrectly shaped images\n",
    "    if (train_x[x].shape != (512, 512)):\n",
    "        train_x = np.delete(train_x, x)\n",
    "        train_y = np.delete(train_y, x)\n",
    "        ids = np.delete(ids, x)\n",
    "train_x = np.array([np.array(x) for x in train_x])\n",
    "\n",
    "#convert training images to pytorch tensors\n",
    "train_x = train_x.reshape(1000, 1, 512, 512)\n",
    "train_x = train_x.astype('float')\n",
    "train_x = torch.from_numpy(train_x)\n",
    "\n",
    "#convert target data to pytorch tensor\n",
    "train_y = train_y.astype('bool')\n",
    "train_y = torch.from_numpy(train_y)"
   ]
  },
  {
   "cell_type": "markdown",
   "metadata": {},
   "source": [
    "This one is non-convolutional:"
   ]
  },
  {
   "cell_type": "code",
   "execution_count": 4,
   "metadata": {},
   "outputs": [],
   "source": [
    "class Generator(nn.Module):\n",
    "\n",
    "    def __init__(self):\n",
    "        super(Generator, self).__init__()       \n",
    "#         self.cnn_layers = Sequential(\n",
    "#             #convolution layer 1\n",
    "#             Conv2d(16, 4, kernel_size = 3, stride=1, padding=1),\n",
    "#             BatchNorm2d(4),\n",
    "#             ReLU(inplace=True),\n",
    "#             MaxPool2d(kernel_size = 2, stride=2),\n",
    "            \n",
    "#             #convolution layer 2\n",
    "#             Conv2d(4, 16, kernel_size = 3, stride=1, padding=1),\n",
    "#             BatchNorm2d(16),\n",
    "#             ReLU(inplace=True),\n",
    "#             MaxPool2d(kernel_size = 2, stride=2),\n",
    "#         )\n",
    "        self.dense_layer = Sequential (\n",
    "            nn.Linear(16, 128),\n",
    "            nn.Linear(128, 256),\n",
    "            nn.Linear(256, 262144)\n",
    "        )\n",
    "        self.relu = nn.ReLU()\n",
    "        \n",
    "    def forward(self, x):\n",
    "        #x = self.cnn_layers(x)\n",
    "        #x = self.cnn_layers(x)\n",
    "        #torch.reshape(x, (4, 4))\n",
    "        x = self.dense_layer(x)\n",
    "        x = self.relu(x)\n",
    "        x = torch.reshape(x, (512, 512))\n",
    "        return x"
   ]
  },
  {
   "cell_type": "code",
   "execution_count": null,
   "metadata": {},
   "outputs": [],
   "source": [
    "channels = 1 # would be 3 for a RGB image\n",
    "im_size = 512\n",
    "noise_size = 16\n",
    "class Generator(nn.Module):\n",
    "    def _init_(self):\n",
    "        super(Generator, self)._init_()\n",
    "        self.cnn_layers = Sequential (\n",
    "            nn.Conv2d(noise_size, im_size*8, 4, 2, 1, bias=False),\n",
    "            nn.BatchNorm2d(im_size*8),\n",
    "            nn.ReLU(inplace=True),\n",
    "            \n",
    "            nn.Conv2d(im_size*8, im_size*4, 4, 2, 1, bias=False),\n",
    "            nn.BatchNorm2d(im_size*4),\n",
    "            nn.ReLU(inplace=True),\n",
    "            \n",
    "            nn.Conv2d(im_size*4, im_size*2, 4, 2, 1, bias=False),\n",
    "            nn.BatchNorm2d(im_size*2),\n",
    "            nn.ReLU(inplace=True),\n",
    "            \n",
    "            nn.Conv2d(im_size*2, im_size, 4, 2, 1, bias=False),\n",
    "            nn.BatchNorm2d(im_size),\n",
    "            nn.ReLU(inplace=True),\n",
    "            \n",
    "            nn.Conv2d(im_size, channels, 4, 2, 1, bias=False),\n",
    "            nn.Tanh()\n",
    "        )\n",
    "        \n",
    "    def forward(self, input):\n",
    "        return self.cnn_layers(input)"
   ]
  },
  {
   "cell_type": "code",
   "execution_count": null,
   "metadata": {},
   "outputs": [],
   "source": [
    "gen = Generator()\n",
    "mu = train_x.mean()\n",
    "std = train_x.std()\n",
    "noise = torch.normal(mu, std, size=(1,16))\n",
    "generated_image = gen(noise)\n",
    "\n",
    "#display the image\n",
    "generated_image=generated_image.detach().numpy() \n",
    "plt.imshow(  generated_image)\n",
    "generated_image.shape"
   ]
  }
 ],
 "metadata": {
  "kernelspec": {
   "display_name": "Python 3",
   "language": "python",
   "name": "python3"
  },
  "language_info": {
   "codemirror_mode": {
    "name": "ipython",
    "version": 3
   },
   "file_extension": ".py",
   "mimetype": "text/x-python",
   "name": "python",
   "nbconvert_exporter": "python",
   "pygments_lexer": "ipython3",
   "version": "3.6.8"
  }
 },
 "nbformat": 4,
 "nbformat_minor": 4
}
